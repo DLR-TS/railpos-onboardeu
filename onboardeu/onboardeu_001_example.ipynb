{
 "cells": [
  {
   "cell_type": "code",
   "execution_count": null,
   "id": "f831fb65",
   "metadata": {},
   "outputs": [],
   "source": [
    "\"\"\"\n",
    "| Copyright (c) 2025\n",
    "| Deutsches Zentrum für Luft- und Raumfahrt e.V. (DLR)\n",
    "| Linder Höhe\n",
    "| 51147 Köln\n",
    "\n",
    ":Authors: Judith Heusel, Michael Roth, Keivan Kiyanfar, Erik Hedberg\n",
    "\n",
    ":Version: 1.4.0\n",
    "\n",
    ":Project: railpos\n",
    "\n",
    "License\n",
    "-------\n",
    "This software is released under the 3-Clause BSD License.\n",
    "Details about the license can be found in the LICENSE file.\n",
    "\n",
    "Description\n",
    "Example notebook for rail vehicle positioning within the mFUND project OnboardEU.\n",
    "-------\n",
    "\"\"\""
   ]
  },
  {
   "cell_type": "code",
   "execution_count": null,
   "id": "cd77c2e5",
   "metadata": {},
   "outputs": [],
   "source": [
    "import sys\n",
    "import toml\n",
    "import numpy as np\n",
    "import matplotlib.pyplot as plt\n",
    "from pathlib import Path\n",
    "\n",
    "path = Path().resolve()\n",
    "rep_path = path.parent\n",
    "\n",
    "if rep_path not in sys.path:\n",
    "    sys.path.insert(0, str(rep_path))\n",
    "\n",
    "from railpos import dataframes, helpers, kalmanfilter, railwaymaps, railwaypaths, timestamps, visualization\n",
    "from onboardeu import onboardeuhelpers\n",
    "\n",
    "%matplotlib widget"
   ]
  },
  {
   "cell_type": "markdown",
   "id": "ceb041a2",
   "metadata": {},
   "source": [
    "This notebook demonstrates offline positioning of a railway vehicle using GNSS (Global Navigation Satellite Systems) and IMU (Inertial Measurement Unit) data. It provides a step by step guide and example plots. The input data are in HDF5 format. The readme.md contains a link to the data.\n",
    "The positioning pipeline is performed per journey of the vehicle, i.e., from standstill to standstill.\n",
    "\n",
    "To run the notebook, place the files containing the map and the sensor data in the data folder of this repository, as explained in the readme."
   ]
  },
  {
   "cell_type": "markdown",
   "id": "f5176fe1",
   "metadata": {},
   "source": [
    "## Data reading"
   ]
  },
  {
   "cell_type": "markdown",
   "id": "3adc0892",
   "metadata": {},
   "source": [
    "### First, read the config file."
   ]
  },
  {
   "cell_type": "code",
   "execution_count": null,
   "id": "45f6f2e3",
   "metadata": {},
   "outputs": [],
   "source": [
    "config_path = Path(rep_path, 'onboardeu', 'onboardeu_001_example.toml')\n",
    "with open(config_path, 'r') as toml_file:\n",
    "    config = toml.load(toml_file)"
   ]
  },
  {
   "cell_type": "markdown",
   "id": "32810254",
   "metadata": {},
   "source": [
    "### Read the map data of the railway network. A RailwayMap object is created from the file containing the map data."
   ]
  },
  {
   "cell_type": "code",
   "execution_count": null,
   "id": "a0f6c090",
   "metadata": {},
   "outputs": [],
   "source": [
    "rmap = railwaymaps.RailwayMap.from_geopackage(Path(rep_path, config['map_filepath']))"
   ]
  },
  {
   "cell_type": "markdown",
   "id": "59fa1380",
   "metadata": {},
   "source": [
    "### Read the sensor data (GNSS and IMU) for a journey."
   ]
  },
  {
   "cell_type": "markdown",
   "id": "37c23817",
   "metadata": {},
   "source": [
    "#### Create the path to the HDF5 file."
   ]
  },
  {
   "cell_type": "code",
   "execution_count": null,
   "id": "c90671da",
   "metadata": {},
   "outputs": [],
   "source": [
    "path_hdf = Path(rep_path, config['data_filepath'])"
   ]
  },
  {
   "cell_type": "markdown",
   "id": "50ff6d8a",
   "metadata": {},
   "source": [
    "#### Specify the number of the journey (in [0, ... 51]) and read the sensor data"
   ]
  },
  {
   "cell_type": "code",
   "execution_count": null,
   "id": "0e317799",
   "metadata": {},
   "outputs": [],
   "source": [
    "journey_nr = 0\n",
    "df_gnss, df_imu, attrs_gnss, attrs_imu = onboardeuhelpers.get_measurement_data(path_hdf, journey_nr)\n",
    "df_gnss = dataframes.df2gdf(df_gnss, lon_column='lon', lat_column='lat')\n",
    "df_gnss.to_crs(rmap.geo_df.crs, inplace=True)"
   ]
  },
  {
   "cell_type": "markdown",
   "id": "4b44f858",
   "metadata": {},
   "source": [
    "#### Print the attributes to know what is contained in the data"
   ]
  },
  {
   "cell_type": "code",
   "execution_count": null,
   "id": "6dfcf9bc",
   "metadata": {},
   "outputs": [],
   "source": [
    "attrs_gnss"
   ]
  },
  {
   "cell_type": "code",
   "execution_count": null,
   "id": "c83b1a61",
   "metadata": {},
   "outputs": [],
   "source": [
    "attrs_imu"
   ]
  },
  {
   "cell_type": "markdown",
   "id": "15cf3301",
   "metadata": {},
   "source": [
    "#### Add a column to the IMU dataframe with low pass filtered longitudinal acceleration. Decide which acceleration will be used as input for the Kalman filter."
   ]
  },
  {
   "cell_type": "code",
   "execution_count": null,
   "id": "251334d8",
   "metadata": {},
   "outputs": [],
   "source": [
    "f_cut = 0.5 # in Hz\n",
    "df_imu['acc_x_filt'] = helpers.filtfilt_lp(df_imu.acc_x.values, f_cut=f_cut)\n",
    "acc_col = 'acc_x_filt'"
   ]
  },
  {
   "cell_type": "markdown",
   "id": "a8260c42",
   "metadata": {},
   "source": [
    "#### Plot the input data"
   ]
  },
  {
   "cell_type": "code",
   "execution_count": null,
   "id": "42fe9f1f",
   "metadata": {},
   "outputs": [],
   "source": [
    "i = 0\n",
    "plt.close(i)\n",
    "fig, ax = plt.subplots(2, 1, sharex=True, num=i, figsize=(8, 6))\n",
    "ax[0].plot(df_gnss.times, df_gnss.speed, label='GNSS speed', color='teal', marker='.')\n",
    "ax[1].plot(df_imu.times, df_imu.acc_x, label='Longitudinal acc. (veh. coord.)')\n",
    "ax[1].plot(df_imu.times, df_imu.acc_y, label='Lateral acc.')\n",
    "ax[1].plot(df_imu.times, df_imu.acc_z, label='Vertical acc.')\n",
    "acc_int_filt = helpers.integrate_signal(df_imu.acc_x_filt.values, df_imu.times.values, bias=np.mean(df_imu.acc_x_filt.values))\n",
    "acc_int = helpers.integrate_signal(df_imu.acc_x.values, df_imu.times.values, bias=np.mean(df_imu.acc_x.values))\n",
    "ax[0].plot(df_imu.times, acc_int, label='Integrated long. acc.', color='magenta')\n",
    "ax[0].plot(df_imu.times, acc_int_filt, label='Filtered, integrated long. acc.', color='pink')\n",
    "for i in [0, 1]:\n",
    "    ax[i].legend()\n",
    "    ax[i].grid()\n",
    "    ax[i].set_xlabel('Time in s')\n",
    "ax[0].set_ylabel('Speed in m/s')\n",
    "ax[1].set_ylabel('Acceleration in m/$s^2$')"
   ]
  },
  {
   "cell_type": "markdown",
   "id": "c78540f7",
   "metadata": {},
   "source": [
    "## Find the path in the railway network which fits the data best"
   ]
  },
  {
   "cell_type": "markdown",
   "id": "8334efc9",
   "metadata": {},
   "source": [
    "A path consists of tracks of the railway network together with their orientations in the path. The best path is found by minimising the projection errors of the input GNSS data to the valid paths.\n",
    "Attention has to be paid to short paths. If the start and end tracks of a path both lie within a certain distance to both the start and end points, the original and the reverted path are found by the algorithm to be possible paths for the data. In this case, the path for which the path distances of the projections of the input GNSS data are increasing is selected."
   ]
  },
  {
   "cell_type": "code",
   "execution_count": null,
   "id": "3e3f42c4",
   "metadata": {},
   "outputs": [],
   "source": [
    "rpaths = railwaypaths.rpaths_from_gnss(rmap, df_gnss, thr_meter=config['thr_meter'])\n",
    "if len(rpaths) == 0:\n",
    "    raise ValueError(\"No paths were found.\")\n",
    "flags_direction = [railwaypaths.flag_movement_direction_not_into_path_direction(rpath, df_gnss.geometry) for rpath in rpaths]\n",
    "rpaths_valid = [rpath for nr, rpath in enumerate(rpaths) if flags_direction[nr]==False]\n",
    "if len(rpaths_valid) == 0:\n",
    "    raise ValueError(\"No valid path found.\")\n",
    "\n",
    "projection_errors_matrix, ibest = railwaypaths.rpath_projection_errors(rpaths_valid, df_gnss)\n",
    "rpath = rpaths_valid[ibest].copy()"
   ]
  },
  {
   "cell_type": "markdown",
   "id": "a6b5133f",
   "metadata": {},
   "source": [
    "### Plot the projection errors of the path hypotheses"
   ]
  },
  {
   "cell_type": "code",
   "execution_count": null,
   "id": "54783e11",
   "metadata": {},
   "outputs": [],
   "source": [
    "i = 1\n",
    "plt.close(i)\n",
    "fig = onboardeuhelpers.georef_plot_path_projection_errors(projection_errors_matrix, figsize=(4,3), num=i)"
   ]
  },
  {
   "cell_type": "markdown",
   "id": "663bc4d0",
   "metadata": {},
   "source": [
    "### Plot the paths and the GNSS data"
   ]
  },
  {
   "cell_type": "code",
   "execution_count": null,
   "id": "8571d47a",
   "metadata": {},
   "outputs": [],
   "source": [
    "max_speed = np.absolute(df_gnss['speed']).max()*1.1\n",
    "cmap = visualization.create_linear_colormap(['midnightblue', 'teal', 'yellow',\n",
    "                                            'darkorange'], vmin=0, vmax=max_speed, caption=\"Speed in m/s\")\n",
    "cmap_time = visualization.create_linear_colormap(['white', 'coral', 'red', 'darkred'], vmin=df_gnss.times.min(),\n",
    "                                                 vmax=df_gnss.times.max(), caption='Time in s', max_labels=8)\n",
    "\n",
    "foliummap = rmap.geo_df.explore(color='white', name='Railway network')\n",
    "df_gnss.explore('times', cmap=cmap_time, m=foliummap, name='GNSS times')\n",
    "df_gnss.explore('speed', name='GNSS speed', cmap=cmap, m=foliummap)\n",
    "onboardeuhelpers.add_path_hypotheses_to_folium(foliummap, rpaths, add_layer_control=False)\n",
    "rpath.railway_map.geo_df.iloc[rpath.tracks].explore(m=foliummap, name='Best path', color='black')\n",
    "visualization.folium_layer_control(foliummap)\n",
    "foliummap.add_to(visualization.folium_figure())\n",
    "foliummap"
   ]
  },
  {
   "cell_type": "markdown",
   "id": "ef5eba93",
   "metadata": {},
   "source": [
    "### If the vehicle is driving backwards with respect to vehicle coordinate frame, reverse the path (such that decreasing vehicle distances lead to decreasing path distances)."
   ]
  },
  {
   "cell_type": "markdown",
   "id": "71f181e2",
   "metadata": {},
   "source": [
    "Attention: Do not execute the following cell an even number of times (double reversing the path leads to the original path despite the vehicle is driving backwards)."
   ]
  },
  {
   "cell_type": "code",
   "execution_count": null,
   "id": "35281f28",
   "metadata": {},
   "outputs": [],
   "source": [
    "forward_journey, _ = helpers.driving_direction(df_imu[acc_col].values, df_imu.times.values, df_gnss.speed.values, df_gnss.times.values)\n",
    "if forward_journey<0:\n",
    "    rpath.reverse()"
   ]
  },
  {
   "cell_type": "markdown",
   "id": "184509b0",
   "metadata": {},
   "source": [
    "## Perform an on-path Kalman filter (and smoother)"
   ]
  },
  {
   "cell_type": "markdown",
   "id": "eb7affec",
   "metadata": {},
   "source": [
    "### Create the timestamp vector for the Kalman filter."
   ]
  },
  {
   "cell_type": "code",
   "execution_count": null,
   "id": "ff26ea7f",
   "metadata": {},
   "outputs": [],
   "source": [
    "time_kf = timestamps.create_kf_timestamps({1:df_gnss.times, 2:df_imu.times}, dt_kf=0.01, timespan='max')"
   ]
  },
  {
   "cell_type": "markdown",
   "id": "0443a8d7",
   "metadata": {},
   "source": [
    "### Create OfflineMeasurement objects for GNSS and IMU data."
   ]
  },
  {
   "cell_type": "code",
   "execution_count": null,
   "id": "d7d4b9bc",
   "metadata": {},
   "outputs": [],
   "source": [
    "mm_gnss = kalmanfilter.OfflineMeasurement(df_gnss, df_gnss.times, time_kf, keydict=dict(zip(df_gnss.columns, df_gnss.columns)))\n",
    "mm_imu = kalmanfilter.OfflineMeasurement(df_imu, df_imu.times, time_kf, keydict=dict(zip(df_imu.columns, df_imu.columns)))"
   ]
  },
  {
   "cell_type": "markdown",
   "id": "189d2c0c",
   "metadata": {},
   "source": [
    "### Create parameter dictionaries for general, time update and measurement update parameters."
   ]
  },
  {
   "cell_type": "code",
   "execution_count": null,
   "id": "7424c7e0",
   "metadata": {},
   "outputs": [],
   "source": [
    "params = {'railway_path': rpath, 'forward_journey': forward_journey, 'tsamp': config['tsamp'], 'acc_bias': df_imu[acc_col].mean()}"
   ]
  },
  {
   "cell_type": "code",
   "execution_count": null,
   "id": "386fde83",
   "metadata": {},
   "outputs": [],
   "source": [
    "tu_params = {'acc_var': config['acc_var']}\n",
    "mu_params = {'pos_var': config['pos_var'], 'speed_var': config['speed_var'], 'dpert': config['dpert'], 'nsat_min': config['nsat_min'],\n",
    "             'accuracy_horizontal_max':config['accuracy_horizontal_max']}"
   ]
  },
  {
   "cell_type": "code",
   "execution_count": null,
   "id": "e753d439",
   "metadata": {},
   "outputs": [],
   "source": [
    "standstill_kf = helpers.standstill_from_gnss(df_gnss.times.values, df_gnss.speed.values, time_kf)"
   ]
  },
  {
   "cell_type": "markdown",
   "id": "f2730dd5",
   "metadata": {},
   "source": [
    "### Initialise the Kalman filter object"
   ]
  },
  {
   "cell_type": "code",
   "execution_count": null,
   "id": "e43306fc",
   "metadata": {},
   "outputs": [],
   "source": [
    "kf, tu_params = kalmanfilter.prepare_kf(params, tu_params, df_gnss, df_imu, acc_col=acc_col, speed_col='speed')"
   ]
  },
  {
   "cell_type": "markdown",
   "id": "cda92d73",
   "metadata": {},
   "source": [
    "### Kalman filtering"
   ]
  },
  {
   "cell_type": "code",
   "execution_count": null,
   "id": "ffd3154c",
   "metadata": {},
   "outputs": [],
   "source": [
    "kf_keydict={'acc': acc_col, 'speed': 'speed', 'pos': 'geometry', 'speed_std': 'speedacc', 'pos_std': 'accuracy_horizontal', 'nsat': 'nsat'}"
   ]
  },
  {
   "cell_type": "code",
   "execution_count": null,
   "id": "abef64b4",
   "metadata": {},
   "outputs": [],
   "source": [
    "est_filt, cov_filt, est_pred, cov_pred = kalmanfilter.run_offline_kf(\n",
    "    time_kf, kf, params, tu_params, mu_params, mm_imu, mm_gnss, standstill_kf=standstill_kf, kf_keys=kf_keydict)"
   ]
  },
  {
   "cell_type": "markdown",
   "id": "0c6b93cb",
   "metadata": {},
   "source": [
    "### Smoothing"
   ]
  },
  {
   "cell_type": "code",
   "execution_count": null,
   "id": "f0c1e0fc",
   "metadata": {},
   "outputs": [],
   "source": [
    "est_smth, cov_smth = kalmanfilter.rts(est_filt, cov_filt, est_pred, cov_pred, kf.fmat)"
   ]
  },
  {
   "cell_type": "markdown",
   "id": "7200c9d6",
   "metadata": {},
   "source": [
    "### Create an output GeoDataFrame containing the results of the offline positioning."
   ]
  },
  {
   "cell_type": "code",
   "execution_count": null,
   "id": "152f5a98",
   "metadata": {},
   "outputs": [],
   "source": [
    "gdf_georef = kalmanfilter.create_georef_output(time_kf, est_smth, cov_smth, params['railway_path'])"
   ]
  },
  {
   "cell_type": "markdown",
   "id": "a5e39e85",
   "metadata": {},
   "source": [
    "The output GeoDataFrame contains time and speed information, the driven distance with respect to the path, driven tracks (integer indices referring to the GeoDataFrame of the RailwayMap), distances with respect to the tracks, position and speed standard deviations and absolute position information (cartesian and geographic coordinates)."
   ]
  },
  {
   "cell_type": "markdown",
   "id": "6ed86ab8",
   "metadata": {},
   "source": [
    "### Create a GeoDataFrame containing the projected input (GNSS) positions to the railway path to compare input and output."
   ]
  },
  {
   "cell_type": "code",
   "execution_count": null,
   "id": "6b374485",
   "metadata": {},
   "outputs": [],
   "source": [
    "gdf_projected = onboardeuhelpers.get_gdf_projected_points(df_gnss, rpath, columns_to_keep=['times'])"
   ]
  },
  {
   "cell_type": "markdown",
   "id": "45e61c9f",
   "metadata": {},
   "source": [
    "### Plot the results and the input data."
   ]
  },
  {
   "cell_type": "code",
   "execution_count": null,
   "id": "d0823229",
   "metadata": {},
   "outputs": [],
   "source": [
    "i = 2\n",
    "plt.close(i)\n",
    "fig, ax = plt.subplots(2, 1, sharex=True, num=i)\n",
    "ax[0].plot(df_gnss.times, df_gnss.speed, label='GNSS speed', color='teal')\n",
    "ax[0].plot(gdf_georef.time_sec, gdf_georef.speed, color='pink', label='Georef. speed')\n",
    "ax[0].plot(gdf_georef.time_sec, gdf_georef.velocity, color='magenta', label='Georef. velocity')\n",
    "ax[0].fill_between(time_kf, gdf_georef.speed + np.sqrt(cov_smth[:, 1, 1]), gdf_georef.speed - np.sqrt(cov_smth[:, 1, 1]),\n",
    "                    alpha=0.5)\n",
    "ax[0].fill_between(time_kf, gdf_georef.velocity + np.sqrt(cov_smth[:, 1, 1]), gdf_georef.velocity - np.sqrt(cov_smth[:, 1, 1]),\n",
    "                    alpha=0.5)\n",
    "ax[1].plot(gdf_projected.times, gdf_projected.distance_on_path, label='Projected GNSS positions')\n",
    "ax[1].plot(gdf_georef.time_sec, gdf_georef.distance_on_path, label='Georef. path distance')\n",
    "ax[1].fill_between(time_kf, est_smth[:, 0] + np.sqrt(cov_smth[:, 0, 0]), est_smth[:, 0] - np.sqrt(cov_smth[:, 0, 0]),\n",
    "                    alpha=0.5, color='grey')\n",
    "for i in [0, 1]:\n",
    "    ax[i].legend()\n",
    "    ax[i].grid()\n",
    "    ax[i].set_xlabel('Time in s')\n",
    "ax[0].set_ylabel('Speed in m/s')\n",
    "ax[1].set_ylabel('Distance in m')"
   ]
  },
  {
   "cell_type": "markdown",
   "id": "f2a0c823",
   "metadata": {},
   "source": [
    "### Visualise input and output data on the map"
   ]
  },
  {
   "cell_type": "code",
   "execution_count": null,
   "id": "6c00f578",
   "metadata": {},
   "outputs": [],
   "source": [
    "max_speed = np.absolute(gdf_georef['speed']).max()*1.1\n",
    "cmap = visualization.create_linear_colormap(['midnightblue', 'teal', 'yellow',\n",
    "                                            'darkorange'], vmin=0, vmax=max_speed, caption=\"Speed in m/s\")\n",
    "cmap_time = visualization.create_linear_colormap(['white', 'coral', 'red', 'darkred'], vmin=gdf_georef.time_sec.min(),\n",
    "                                                 vmax=gdf_georef.time_sec.max(), caption='Time in s', max_labels=4)\n",
    "\n",
    "foliummap = rmap.geo_df.explore(color='white', name='Railway network')\n",
    "rpath.railway_map.geo_df.iloc[rpath.tracks].explore(m=foliummap, name='Path', color='lightgreen')\n",
    "df_gnss.explore('times', cmap=cmap_time, m=foliummap, name='GNSS times')\n",
    "df_gnss.explore('speed', name='GNSS speed', cmap=cmap, m=foliummap)\n",
    "gdf_georef.iloc[::10,:].explore('speed', m=foliummap, cmap=cmap, name='Georeferencing output (speed)', vmin=0, vmax=max_speed)\n",
    "visualization.folium_niedersachsen_image(foliummap)\n",
    "visualization.folium_layer_control(foliummap)\n",
    "foliummap.add_to(visualization.folium_figure())\n",
    "foliummap"
   ]
  },
  {
   "cell_type": "markdown",
   "id": "7da618c9",
   "metadata": {},
   "source": [
    "## Write the results to a file (HDF5 format)"
   ]
  },
  {
   "cell_type": "code",
   "execution_count": null,
   "id": "73501509",
   "metadata": {},
   "outputs": [],
   "source": [
    "onboardeuhelpers.georef_write_results(gdf_georef, Path(rep_path, 'data', 'onboardeu_001_georef.h5'), dset_name=('journey_' + str(journey_nr).zfill(2)))"
   ]
  }
 ],
 "metadata": {
  "kernelspec": {
   "display_name": "railpos_onboard",
   "language": "python",
   "name": "python3"
  },
  "language_info": {
   "codemirror_mode": {
    "name": "ipython",
    "version": 3
   },
   "file_extension": ".py",
   "mimetype": "text/x-python",
   "name": "python",
   "nbconvert_exporter": "python",
   "pygments_lexer": "ipython3",
   "version": "3.13.5"
  }
 },
 "nbformat": 4,
 "nbformat_minor": 5
}
